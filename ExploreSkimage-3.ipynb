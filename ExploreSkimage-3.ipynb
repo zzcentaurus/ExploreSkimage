{
 "cells": [
  {
   "cell_type": "markdown",
   "metadata": {},
   "source": [
    "# Utility Functions\n",
    "There are several functions in the util module. Here are some I think are useful."
   ]
  },
  {
   "cell_type": "code",
   "execution_count": 1,
   "metadata": {
    "collapsed": true
   },
   "outputs": [],
   "source": [
    "%matplotlib inline\n",
    "import numpy as np\n",
    "import matplotlib.pyplot as plt\n",
    "from skimage import data, util\n",
    "from skimage.external import tifffile"
   ]
  },
  {
   "cell_type": "markdown",
   "metadata": {},
   "source": [
    "## dtype_limits\n",
    "> Return intensity limits, i.e. (min, max) tuple, of the image’s dtype.\n",
    "\n",
    "We could just use im.dtype to check image's dtype..."
   ]
  },
  {
   "cell_type": "code",
   "execution_count": 13,
   "metadata": {
    "collapsed": false
   },
   "outputs": [
    {
     "name": "stdout",
     "output_type": "stream",
     "text": [
      "data.camera has the dtype_limits: (0, 255)\n",
      "data.chelsea (color image) has the dtype_limits: (0, 255)\n",
      "NOR_RC053_#1 has the dtype_limits: (0, 65535)\n",
      "data.DSM_reconstruction_crop-2 (3D image) has the dtype_limits: (0, 255)\n"
     ]
    }
   ],
   "source": [
    "im = data.camera()\n",
    "print 'data.camera has the dtype_limits: %s' % (util.dtype_limits(im),)\n",
    "im = data.chelsea()\n",
    "print 'data.chelsea (color image) has the dtype_limits: %s' % (util.dtype_limits(im),)\n",
    "im = tifffile.imread('/Users/zhouzhou/Dropbox/App/spyder/ExploreSkimage/NOR_RC053_#1.tif')\n",
    "print 'NOR_RC053_#1 has the dtype_limits: %s' % (util.dtype_limits(im),)\n",
    "im = tifffile.imread('/Users/zhouzhou/Dropbox/App/spyder/ExploreSkimage/DSM_reconstructed_crop-2.tif')\n",
    "print 'data.DSM_reconstruction_crop-2 (3D image) has the dtype_limits: %s' % (util.dtype_limits(im),)"
   ]
  },
  {
   "cell_type": "markdown",
   "metadata": {},
   "source": [
    "## img_as_uint\n",
    "> Convert an image to 16-bit unsigned integer format.\n",
    "\n",
    "> Negative input values will be clipped. Positive values are scaled between 0 and 65535."
   ]
  },
  {
   "cell_type": "code",
   "execution_count": 15,
   "metadata": {
    "collapsed": false
   },
   "outputs": [
    {
     "name": "stdout",
     "output_type": "stream",
     "text": [
      "data.camera's dtype: uint8\n",
      "data.camera_as_uint's dtype: uint16\n"
     ]
    }
   ],
   "source": [
    "im = data.camera()\n",
    "im_as_uint = util.img_as_uint(im)\n",
    "print 'data.camera\\'s dtype: %s' % im.dtype\n",
    "print 'data.camera_as_uint\\'s dtype: %s' % im_as_uint.dtype"
   ]
  },
  {
   "cell_type": "code",
   "execution_count": 34,
   "metadata": {
    "collapsed": false,
    "scrolled": true
   },
   "outputs": [
    {
     "name": "stdout",
     "output_type": "stream",
     "text": [
      "51 93\n",
      "13107 23901\n"
     ]
    },
    {
     "data": {
      "image/png": "[encoded data removed]",
      "text/plain": [
       "<matplotlib.figure.Figure at 0x114594b50>"
      ]
     },
     "metadata": {},
     "output_type": "display_data"
    }
   ],
   "source": [
    "im = tifffile.imread('/Users/zhouzhou/Dropbox/App/spyder/ExploreSkimage/DSM_reconstructed_crop-2.tif')\n",
    "im = im[200,:,:]\n",
    "im_as_uint = util.img_as_uint(im)\n",
    "\n",
    "plt.rcParams['figure.figsize'] = (20, 10)\n",
    "fig, ax = plt.subplots(1,3)\n",
    "\n",
    "ax[0].imshow(im, cmap='gray')\n",
    "ax[0].axis('off')\n",
    "ax[0].set_adjustable('box-forced')\n",
    "ax[0].set_title('original')\n",
    "\n",
    "ax[1].imshow(im_as_uint, cmap='gray')\n",
    "ax[1].axis('off')\n",
    "ax[1].set_adjustable('box-forced')\n",
    "ax[1].set_title('im_as_uint')\n",
    "\n",
    "ax[2].imshow(im_as_uint, vmin=0, vmax=65535, cmap='gray')\n",
    "ax[2].axis('off')\n",
    "ax[2].set_adjustable('box-forced')\n",
    "ax[2].set_title('im_as_uint display at full range')\n",
    "\n",
    "print im.min(), im.max()\n",
    "print im_as_uint.min(), im_as_uint.max()"
   ]
  },
  {
   "cell_type": "markdown",
   "metadata": {},
   "source": [
    "# img_as_ubyte\n",
    "> Convert an image to 8-bit unsigned integer format\n",
    "\n",
    "> Negative input values will be clipped. Positive values are scaled between 0 and 255."
   ]
  },
  {
   "cell_type": "code",
   "execution_count": 21,
   "metadata": {
    "collapsed": false
   },
   "outputs": [
    {
     "name": "stdout",
     "output_type": "stream",
     "text": [
      "True\n"
     ]
    },
    {
     "name": "stderr",
     "output_type": "stream",
     "text": [
      "/Users/zhouzhou/anaconda/lib/python2.7/site-packages/skimage/util/dtype.py:110: UserWarning: Possible precision loss when converting from uint16 to uint8\n",
      "  \"%s to %s\" % (dtypeobj_in, dtypeobj))\n"
     ]
    }
   ],
   "source": [
    "im = data.camera()\n",
    "im_16bit = util.img_as_uint(im)\n",
    "im_8bit_back = util.img_as_ubyte(im_16bit)\n",
    "print np.array_equal(im, im_8bit_back)"
   ]
  },
  {
   "cell_type": "markdown",
   "metadata": {},
   "source": [
    "## img_as_float\n",
    "> Convert an image to double-precision floating point format.\n",
    "\n",
    "> The range of a floating point image is [0.0, 1.0] or [-1.0, 1.0] when converting from unsigned or signed datatypes, respectively.\n"
   ]
  },
  {
   "cell_type": "code",
   "execution_count": 29,
   "metadata": {
    "collapsed": false
   },
   "outputs": [
    {
     "name": "stdout",
     "output_type": "stream",
     "text": [
      "float64\n",
      "(0, 1)\n",
      "0.0 1.0\n"
     ]
    }
   ],
   "source": [
    "im = data.camera()\n",
    "im_float = util.img_as_float(im)\n",
    "print im_float.dtype\n",
    "print util.dtype_limits(im_float)\n",
    "print im_float.min(), im_float.max()"
   ]
  },
  {
   "cell_type": "code",
   "execution_count": 31,
   "metadata": {
    "collapsed": false
   },
   "outputs": [
    {
     "name": "stdout",
     "output_type": "stream",
     "text": [
      "float64\n",
      "(0, 1)\n",
      "5467 65535\n",
      "0.0834210727092 1.0\n"
     ]
    }
   ],
   "source": [
    "im = tifffile.imread('/Users/zhouzhou/Dropbox/App/spyder/ExploreSkimage/NOR_RC053_#1.tif')\n",
    "im_float = util.img_as_float(im)\n",
    "print im_float.dtype\n",
    "print util.dtype_limits(im_float)\n",
    "print im.min(), im.max()\n",
    "print im_float.min(), im_float.max()"
   ]
  }
 ],
 "metadata": {
  "kernelspec": {
   "display_name": "Python 2",
   "language": "python",
   "name": "python2"
  },
  "language_info": {
   "codemirror_mode": {
    "name": "ipython",
    "version": 2
   },
   "file_extension": ".py",
   "mimetype": "text/x-python",
   "name": "python",
   "nbconvert_exporter": "python",
   "pygments_lexer": "ipython2",
   "version": "2.7.12"
  }
 },
 "nbformat": 4,
 "nbformat_minor": 0
}
